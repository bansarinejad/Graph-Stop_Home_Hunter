{
 "cells": [
  {
   "cell_type": "markdown",
   "id": "e05e7a64",
   "metadata": {},
   "source": [
    "# 🏠 Graph-Stop Home Hunter — Guided Notebook Tour\n",
    "\n",
    "This notebook is a **hands-on companion** to the codebase (`graph_home_hunter.py`).  \n",
    "You’ll train, evaluate, and *peek inside* a three-stage pipeline that turns raw real-estate listings into **actionable buy/​wait advice**.\n",
    "\n",
    "| Stage | What you’ll do | Why it matters |\n",
    "|-------|----------------|----------------|\n",
    "| **1 Graph Encoder** | Train a 2-layer **GAT** (or swap in GraphSAGE) on a **buyer → listing → suburb** graph. | Captures relational cues—price clusters, suburb similarity, CBD distance—that flat features miss. |\n",
    "| **2 Tabular Head** | Feed embeddings + **one-hot features** through a Gaussian NB or Logistic Reg head, optionally keeping only the top-k features by mutual information. | Blends learned context with interpretable/calibrated probabilities. |\n",
    "| **3 Decision Logic** | Apply a threshold **τ** and a **Bayesian Option-Value Planner** (wait-cost vs regret-cost δ) to decide *“Bid now”* vs *“Hold for better stock.”* | Converts probabilities into real decisions, balancing confidence against future opportunity. |\n",
    "\n",
    "### Notebook flow 🚦\n",
    "1. **Synthetic data** Generate or load 10 weekly CSV snapshots **plus** a larger train/test table.  \n",
    "2. **Train & validate** • Graph-only GNN • Stacked head with calibration.  \n",
    "3. **Threshold sweep** Find the F1-optimal τ (or F-β for a precision/recall tilt).  \n",
    "4. **Week-by-week simulation** Replay snapshots and watch the Option-Value Planner decide when to pull the trigger.  \n",
    "5. **Explainability** Inspect per-listing feature contributions to understand each recommendation.\n",
    "\n",
    "Ready? Let’s hunt some homes 🔑🏡\n"
   ]
  },
  {
   "cell_type": "code",
   "execution_count": 23,
   "id": "a1ef37c5",
   "metadata": {},
   "outputs": [
    {
     "name": "stdout",
     "output_type": "stream",
     "text": [
      "2.3.0+cu118\n"
     ]
    }
   ],
   "source": [
    "import os, sys, math, random, copy, json, itertools, types, warnings, joblib, subprocess\n",
    "from pathlib import Path\n",
    "\n",
    "import numpy as np\n",
    "import pandas as pd\n",
    "import matplotlib.pyplot as plt\n",
    "import matplotlib.patches as mpatches\n",
    "\n",
    "import torch, torch.nn as nn\n",
    "from torch_geometric.data import Data\n",
    "from torch_geometric.loader import NeighborLoader\n",
    "from torch_geometric.nn import GATConv\n",
    "\n",
    "from sklearn.model_selection import train_test_split\n",
    "from sklearn.metrics import classification_report, confusion_matrix\n",
    "from sklearn.naive_bayes import GaussianNB\n",
    "from sklearn.linear_model import LogisticRegression\n",
    "from sklearn.calibration import CalibratedClassifierCV\n",
    "from sklearn.feature_selection import mutual_info_classif\n",
    "\n",
    "# local source (assumes notebook lives next to graph_home_hunter.py)\n",
    "from graph_home_hunter import (\n",
    "    ListingGraphTG, GCN, IntentHead, GraphTrainer,\n",
    "    Metrics, _safe_torch_load, set_seed\n",
    ")\n",
    "\n",
    "# put this once, near the top of the notebook\n",
    "import warnings\n",
    "from sklearn.exceptions import ConvergenceWarning\n",
    "\n",
    "warnings.filterwarnings(\"ignore\", category=ConvergenceWarning)\n",
    "\n",
    "set_seed(42)\n",
    "print(torch.__version__)"
   ]
  },
  {
   "cell_type": "markdown",
   "id": "9c1a6257",
   "metadata": {},
   "source": [
    "## 1. Prepare synthetic training & test CSVs"
   ]
  },
  {
   "cell_type": "code",
   "execution_count": 2,
   "id": "19f75208",
   "metadata": {},
   "outputs": [
    {
     "name": "stdout",
     "output_type": "stream",
     "text": [
      "(16000, 19) (4000, 19)\n"
     ]
    },
    {
     "data": {
      "text/html": [
       "<div>\n",
       "<style scoped>\n",
       "    .dataframe tbody tr th:only-of-type {\n",
       "        vertical-align: middle;\n",
       "    }\n",
       "\n",
       "    .dataframe tbody tr th {\n",
       "        vertical-align: top;\n",
       "    }\n",
       "\n",
       "    .dataframe thead th {\n",
       "        text-align: right;\n",
       "    }\n",
       "</style>\n",
       "<table border=\"1\" class=\"dataframe\">\n",
       "  <thead>\n",
       "    <tr style=\"text-align: right;\">\n",
       "      <th></th>\n",
       "      <th>id</th>\n",
       "      <th>asking_price</th>\n",
       "      <th>body_corp</th>\n",
       "      <th>internal_m2</th>\n",
       "      <th>balcony_m2</th>\n",
       "      <th>beds</th>\n",
       "      <th>suburb</th>\n",
       "      <th>livability</th>\n",
       "      <th>condition</th>\n",
       "      <th>has_cladding</th>\n",
       "      <th>travel_time_mins</th>\n",
       "      <th>sold_date</th>\n",
       "      <th>has_parking</th>\n",
       "      <th>has_storage</th>\n",
       "      <th>has_solar</th>\n",
       "      <th>north_facing</th>\n",
       "      <th>near_shops</th>\n",
       "      <th>outdoor_space</th>\n",
       "      <th>label</th>\n",
       "    </tr>\n",
       "  </thead>\n",
       "  <tbody>\n",
       "    <tr>\n",
       "      <th>0</th>\n",
       "      <td>10651</td>\n",
       "      <td>634000</td>\n",
       "      <td>1809</td>\n",
       "      <td>74</td>\n",
       "      <td>1.0</td>\n",
       "      <td>2</td>\n",
       "      <td>Footscray</td>\n",
       "      <td>10</td>\n",
       "      <td>new</td>\n",
       "      <td>False</td>\n",
       "      <td>5</td>\n",
       "      <td>NaN</td>\n",
       "      <td>NaN</td>\n",
       "      <td>False</td>\n",
       "      <td>False</td>\n",
       "      <td>False</td>\n",
       "      <td>False</td>\n",
       "      <td>False</td>\n",
       "      <td>0</td>\n",
       "    </tr>\n",
       "    <tr>\n",
       "      <th>1</th>\n",
       "      <td>2042</td>\n",
       "      <td>557000</td>\n",
       "      <td>1894</td>\n",
       "      <td>86</td>\n",
       "      <td>17.7</td>\n",
       "      <td>2</td>\n",
       "      <td>Sunbury</td>\n",
       "      <td>9</td>\n",
       "      <td>good</td>\n",
       "      <td>False</td>\n",
       "      <td>61</td>\n",
       "      <td>NaN</td>\n",
       "      <td>False</td>\n",
       "      <td>True</td>\n",
       "      <td>False</td>\n",
       "      <td>False</td>\n",
       "      <td>True</td>\n",
       "      <td>False</td>\n",
       "      <td>0</td>\n",
       "    </tr>\n",
       "    <tr>\n",
       "      <th>2</th>\n",
       "      <td>8669</td>\n",
       "      <td>601000</td>\n",
       "      <td>1406</td>\n",
       "      <td>109</td>\n",
       "      <td>17.7</td>\n",
       "      <td>3</td>\n",
       "      <td>Werribee</td>\n",
       "      <td>8</td>\n",
       "      <td>good</td>\n",
       "      <td>False</td>\n",
       "      <td>45</td>\n",
       "      <td>NaN</td>\n",
       "      <td>False</td>\n",
       "      <td>NaN</td>\n",
       "      <td>NaN</td>\n",
       "      <td>False</td>\n",
       "      <td>True</td>\n",
       "      <td>True</td>\n",
       "      <td>0</td>\n",
       "    </tr>\n",
       "    <tr>\n",
       "      <th>3</th>\n",
       "      <td>1115</td>\n",
       "      <td>616000</td>\n",
       "      <td>2517</td>\n",
       "      <td>116</td>\n",
       "      <td>8.2</td>\n",
       "      <td>2</td>\n",
       "      <td>Footscray</td>\n",
       "      <td>10</td>\n",
       "      <td>good</td>\n",
       "      <td>False</td>\n",
       "      <td>14</td>\n",
       "      <td>NaN</td>\n",
       "      <td>True</td>\n",
       "      <td>False</td>\n",
       "      <td>False</td>\n",
       "      <td>True</td>\n",
       "      <td>False</td>\n",
       "      <td>True</td>\n",
       "      <td>0</td>\n",
       "    </tr>\n",
       "    <tr>\n",
       "      <th>4</th>\n",
       "      <td>13903</td>\n",
       "      <td>639000</td>\n",
       "      <td>2303</td>\n",
       "      <td>84</td>\n",
       "      <td>6.6</td>\n",
       "      <td>2</td>\n",
       "      <td>Richmond</td>\n",
       "      <td>16</td>\n",
       "      <td>new</td>\n",
       "      <td>False</td>\n",
       "      <td>21</td>\n",
       "      <td>NaN</td>\n",
       "      <td>False</td>\n",
       "      <td>False</td>\n",
       "      <td>False</td>\n",
       "      <td>NaN</td>\n",
       "      <td>True</td>\n",
       "      <td>False</td>\n",
       "      <td>0</td>\n",
       "    </tr>\n",
       "  </tbody>\n",
       "</table>\n",
       "</div>"
      ],
      "text/plain": [
       "      id  asking_price  body_corp  internal_m2  balcony_m2  beds     suburb  \\\n",
       "0  10651        634000       1809           74         1.0     2  Footscray   \n",
       "1   2042        557000       1894           86        17.7     2    Sunbury   \n",
       "2   8669        601000       1406          109        17.7     3   Werribee   \n",
       "3   1115        616000       2517          116         8.2     2  Footscray   \n",
       "4  13903        639000       2303           84         6.6     2   Richmond   \n",
       "\n",
       "   livability condition  has_cladding  travel_time_mins  sold_date  \\\n",
       "0          10       new         False                 5        NaN   \n",
       "1           9      good         False                61        NaN   \n",
       "2           8      good         False                45        NaN   \n",
       "3          10      good         False                14        NaN   \n",
       "4          16       new         False                21        NaN   \n",
       "\n",
       "  has_parking has_storage has_solar north_facing near_shops outdoor_space  \\\n",
       "0         NaN       False     False        False      False         False   \n",
       "1       False        True     False        False       True         False   \n",
       "2       False         NaN       NaN        False       True          True   \n",
       "3        True       False     False         True      False          True   \n",
       "4       False       False     False          NaN       True         False   \n",
       "\n",
       "   label  \n",
       "0      0  \n",
       "1      0  \n",
       "2      0  \n",
       "3      0  \n",
       "4      0  "
      ]
     },
     "execution_count": 2,
     "metadata": {},
     "output_type": "execute_result"
    }
   ],
   "source": [
    "# If the CSVs don’t exist yet, generate them with make_training_data_v3.py\n",
    "if not Path('train_listings.csv').exists():\n",
    "    !python make_training_data_v3.py\n",
    "\n",
    "df_train = pd.read_csv('train_listings.csv')\n",
    "df_test  = pd.read_csv('test_listings.csv')\n",
    "print(df_train.shape, df_test.shape)\n",
    "df_train.head()"
   ]
  },
  {
   "cell_type": "markdown",
   "id": "e92a4f4b",
   "metadata": {},
   "source": [
    "## 2. Build a PyG graph from the training CSV"
   ]
  },
  {
   "cell_type": "code",
   "execution_count": 3,
   "id": "9ea32ec9",
   "metadata": {},
   "outputs": [
    {
     "name": "stdout",
     "output_type": "stream",
     "text": [
      "Positives: 920   Negatives: 15080\n"
     ]
    },
    {
     "data": {
      "image/png": "[encoded data removed]",
      "text/plain": [
       "<Figure size 640x480 with 1 Axes>"
      ]
     },
     "metadata": {},
     "output_type": "display_data"
    }
   ],
   "source": [
    "g_train = ListingGraphTG().from_csv('train_listings.csv')\n",
    "pos = int(g_train.y[g_train.listing_idx].sum())\n",
    "neg = len(g_train.listing_idx) - pos\n",
    "print(f'Positives: {pos}   Negatives: {neg}')\n",
    "\n",
    "plt.bar(['positive','negative'], [pos,neg])\n",
    "plt.title('Class balance (train)')\n",
    "plt.show()"
   ]
  },
  {
   "cell_type": "markdown",
   "id": "b1116796",
   "metadata": {},
   "source": [
    "## 3. Train the GNN encoder"
   ]
  },
  {
   "cell_type": "code",
   "execution_count": 4,
   "id": "ac0b9f13",
   "metadata": {},
   "outputs": [
    {
     "name": "stdout",
     "output_type": "stream",
     "text": [
      "✅ found gnn_v1.pt — loading checkpoint …\n"
     ]
    }
   ],
   "source": [
    "ckpt = Path(\"gnn_v1.pt\")\n",
    "\n",
    "if ckpt.exists():\n",
    "    print(\"✅ found\", ckpt, \"— loading checkpoint …\")\n",
    "    gnn = GCN(); gnn.load(ckpt); gnn.eval()\n",
    "else:\n",
    "    print(\"⏳ checkpoint not found — training from scratch …\")\n",
    "    !python graph_home_hunter.py --train-graph train_graph.pt gnn_v1.pt --epochs 150 --patience 50 --lr 1e-3\n",
    "    gnn = GCN(); gnn.load(ckpt); gnn.eval()"
   ]
  },
  {
   "cell_type": "markdown",
   "id": "fc9b0e6d",
   "metadata": {},
   "source": [
    "## 4. Pure‑GNN performance on the held‑out test set"
   ]
  },
  {
   "cell_type": "code",
   "execution_count": 5,
   "id": "5879a4ea",
   "metadata": {},
   "outputs": [
    {
     "name": "stdout",
     "output_type": "stream",
     "text": [
      "GNN only acc=0.953  prec=0.57  rec=0.87  f1=0.69\n",
      "confusion: TP 207 | FP 157 | FN 30 | TN 3606\n"
     ]
    }
   ],
   "source": [
    "g_test = ListingGraphTG().from_csv('test_listings.csv', add_masks=False)\n",
    "with torch.no_grad():\n",
    "    prob_gnn = torch.sigmoid(gnn(g_test)).numpy()[g_test.listing_idx]\n",
    "pred_gnn = (prob_gnn>=0.5).astype(int)\n",
    "Metrics.report('GNN only', g_test.y[g_test.listing_idx].int().numpy(), pred_gnn)"
   ]
  },
  {
   "cell_type": "markdown",
   "id": "5ca18bcf",
   "metadata": {},
   "source": [
    "## 5. Train tabular head on top of frozen GNN embeddings"
   ]
  },
  {
   "cell_type": "code",
   "execution_count": 6,
   "id": "e1f6aa9a",
   "metadata": {},
   "outputs": [
    {
     "name": "stdout",
     "output_type": "stream",
     "text": [
      "✅ found logreg_head.pkl — loading calibrated head …\n"
     ]
    }
   ],
   "source": [
    "head_ckpt = Path(\"logreg_head.pkl\")\n",
    "\n",
    "if head_ckpt.exists():\n",
    "    print(\"✅ found\", head_ckpt, \"— loading calibrated head …\")\n",
    "else:\n",
    "    print(\"⏳ head checkpoint not found — training now …\")\n",
    "    !python graph_home_hunter.py --train-stack train_listings.csv gnn_v1.pt logreg_head.pkl --stack-model logreg --calib sigmoid\n",
    "\n",
    "head = IntentHead.load(head_ckpt)"
   ]
  },
  {
   "cell_type": "markdown",
   "id": "6491bb30",
   "metadata": {},
   "source": [
    "## 6. Stacked model performance"
   ]
  },
  {
   "cell_type": "code",
   "execution_count": 7,
   "id": "cd826c2f",
   "metadata": {},
   "outputs": [
    {
     "name": "stdout",
     "output_type": "stream",
     "text": [
      "stack metrics:\n",
      "stack acc=0.991  prec=0.94  rec=0.90  f1=0.92\n",
      "confusion: TP 213 | FP 14 | FN 24 | TN 3749\n",
      "\n",
      "OVP decision:  💰  **PLACE OFFER NOW**\n",
      "  • current best posterior  : 0.999\n",
      "  • P(better next week)     : 0.68%\n",
      "  • Δ(Expected regret)      : -0.0193\n"
     ]
    }
   ],
   "source": [
    "!python graph_home_hunter.py --predict-stack test_listings.csv gnn_v1.pt logreg_head.pkl"
   ]
  },
  {
   "cell_type": "markdown",
   "id": "16d97b2e",
   "metadata": {},
   "source": [
    "## 7. Model architecture schematic"
   ]
  },
  {
   "cell_type": "code",
   "execution_count": 21,
   "id": "aacaddbb",
   "metadata": {},
   "outputs": [
    {
     "data": {
      "image/png": "[encoded data removed]",
      "text/plain": [
       "<Figure size 1600x380 with 1 Axes>"
      ]
     },
     "metadata": {},
     "output_type": "display_data"
    }
   ],
   "source": [
    "labels = [\n",
    "    \"Listing graph\\n(GNN input)\",\n",
    "    \"2-layer GAT\\nencoder\",\n",
    "    \"Node\\nembeddings\",\n",
    "    \"Concat\\n(+ one-hot tabular)\",\n",
    "    \"Head classifier\\n(LogReg / G-NB)\",\n",
    "    \"Calibrator\\n(sigmoid / isotonic)\",\n",
    "    \"Option-Value\\nPlanner (OVP)\"\n",
    "]\n",
    "\n",
    "# ─── styling ----------------------------------------------------\n",
    "FACE, EDGE = \"#d7e8ff\", \"#2074ff\"\n",
    "fs_title, fs_lbl = 16, 10.5\n",
    "h_pad, v_pad = 0.04, 0.24          # figure-side padding\n",
    "gap = 0.035                        # gap between blocks\n",
    "arrow_kw       = dict(arrowstyle=\"-|>\", lw=2.2, color=\"black\")\n",
    "arrow_final_kw = dict(arrowstyle=\"-|>\", lw=2.2, color=\"crimson\")\n",
    "\n",
    "# ─── geometry ---------------------------------------------------\n",
    "n = len(labels)\n",
    "avail_w = 1 - 2 * h_pad\n",
    "box_w   = (avail_w - gap * (n - 1)) / n\n",
    "box_h   = 1 - 2 * v_pad\n",
    "y0      = v_pad                    # bottom of blocks\n",
    "\n",
    "fig, ax = plt.subplots(figsize=(16, 3.8))\n",
    "ax.axis(\"off\")\n",
    "ax.set_title(\"Graph-Stop Home-Hunter – end-to-end model flow\",\n",
    "             fontsize=fs_title, fontweight=\"bold\", pad=14)\n",
    "\n",
    "centres = []\n",
    "\n",
    "# ─── blocks -----------------------------------------------------\n",
    "for i, txt in enumerate(labels):\n",
    "    x0 = h_pad + i * (box_w + gap)\n",
    "    centres.append(x0 + box_w / 2)\n",
    "\n",
    "    ax.add_patch(\n",
    "        mpatches.FancyBboxPatch(\n",
    "            (x0, y0), box_w, box_h,\n",
    "            boxstyle=\"round,pad=0.02,rounding_size=0.035\",\n",
    "            facecolor=FACE, edgecolor=EDGE, linewidth=1.5\n",
    "        )\n",
    "    )\n",
    "    ax.text(x0 + box_w / 2, y0 + box_h / 2, txt,\n",
    "            ha=\"center\", va=\"center\", fontsize=fs_lbl, fontweight=\"bold\")\n",
    "\n",
    "# ─── internal arrows (black) -----------------------------------\n",
    "for cL, cR in zip(centres[:-1], centres[1:]):\n",
    "    ax.annotate(\"\",\n",
    "        xy=(cR - box_w / 2 + 0.003, 0.5),\n",
    "        xytext=(cL + box_w / 2 - 0.003, 0.5),\n",
    "        arrowprops=arrow_kw\n",
    "    )\n",
    "\n",
    "# ─── final crimson arrow inside axes ---------------------------\n",
    "right_edge_OVP = centres[-1] + box_w / 2\n",
    "tail = (right_edge_OVP - 0.003, 0.5)\n",
    "head = (min(0.99, right_edge_OVP + 0.03), 0.5)  # keep head ≤ 0.99\n",
    "ax.annotate(\"\",\n",
    "    xy=head, xytext=tail,\n",
    "    arrowprops=arrow_final_kw,\n",
    "    annotation_clip=False           # draw even if head slightly outside\n",
    ")\n",
    "\n",
    "# ─── posterior label -------------------------------------------\n",
    "ax.text(head[0] + 0.015, 0.5, \"posterior  P(offer)\",\n",
    "        fontsize=fs_lbl, va=\"center\", fontstyle=\"italic\", color=\"crimson\")\n",
    "\n",
    "# ─── legend -----------------------------------------------------\n",
    "legend_patch = mpatches.FancyBboxPatch((0, 0), 1, 1,\n",
    "                                       boxstyle=\"round,pad=0.02\",\n",
    "                                       facecolor=FACE, edgecolor=EDGE,\n",
    "                                       linewidth=1.5)\n",
    "ax.legend([legend_patch], [\"processing block\"],\n",
    "          loc=\"lower right\", frameon=False, fontsize=9)\n",
    "\n",
    "plt.tight_layout()\n",
    "plt.show()\n",
    "\n"
   ]
  },
  {
   "cell_type": "markdown",
   "id": "98594619",
   "metadata": {},
   "source": [
    "## 8. Week‑by‑week simulation"
   ]
  },
  {
   "cell_type": "code",
   "execution_count": 9,
   "id": "d1276b31",
   "metadata": {},
   "outputs": [
    {
     "name": "stdout",
     "output_type": "stream",
     "text": [
      "\n",
      "🏠  Week 0: c:\\Users\\User\\anaconda3\\python.exe graph_home_hunter.py --predict-stack week_0.csv gnn_v1.pt logreg_head.pkl --thr 0.95 --wait-cost 0.02 --regret-cost 0.2 --k-next-week 10 --quiet-metrics\n",
      "\n",
      "\n",
      "OVP decision:  ⏳  WAIT\n",
      "  • current best posterior  : 0.747\n",
      "  • P(better next week)     : 17.13%\n",
      "  • Δ(Expected regret)      : +0.0143\n",
      "\n",
      "🏠  Week 1: c:\\Users\\User\\anaconda3\\python.exe graph_home_hunter.py --predict-stack week_1.csv gnn_v1.pt logreg_head.pkl --thr 0.95 --wait-cost 0.02 --regret-cost 0.2 --k-next-week 10 --quiet-metrics\n",
      "\n",
      "\n",
      "OVP decision:  ⏳  WAIT\n",
      "  • current best posterior  : 0.747\n",
      "  • P(better next week)     : 17.12%\n",
      "  • Δ(Expected regret)      : +0.0142\n",
      "\n",
      "🏠  Week 2: c:\\Users\\User\\anaconda3\\python.exe graph_home_hunter.py --predict-stack week_2.csv gnn_v1.pt logreg_head.pkl --thr 0.95 --wait-cost 0.02 --regret-cost 0.2 --k-next-week 10 --quiet-metrics\n",
      "\n",
      "\n",
      "OVP decision:  ⏳  WAIT\n",
      "  • current best posterior  : 0.747\n",
      "  • P(better next week)     : 17.11%\n",
      "  • Δ(Expected regret)      : +0.0142\n",
      "\n",
      "🏠  Week 3: c:\\Users\\User\\anaconda3\\python.exe graph_home_hunter.py --predict-stack week_3.csv gnn_v1.pt logreg_head.pkl --thr 0.95 --wait-cost 0.02 --regret-cost 0.2 --k-next-week 10 --quiet-metrics\n",
      "\n",
      "\n",
      "OVP decision:  ⏳  WAIT\n",
      "  • current best posterior  : 0.747\n",
      "  • P(better next week)     : 16.96%\n",
      "  • Δ(Expected regret)      : +0.0139\n",
      "\n",
      "🏠  Week 4: c:\\Users\\User\\anaconda3\\python.exe graph_home_hunter.py --predict-stack week_4.csv gnn_v1.pt logreg_head.pkl --thr 0.95 --wait-cost 0.02 --regret-cost 0.2 --k-next-week 10 --quiet-metrics\n",
      "\n",
      "\n",
      "OVP decision:  ⏳  WAIT\n",
      "  • current best posterior  : 0.570\n",
      "  • P(better next week)     : 20.45%\n",
      "  • Δ(Expected regret)      : +0.0209\n",
      "\n",
      "🏠  Week 5: c:\\Users\\User\\anaconda3\\python.exe graph_home_hunter.py --predict-stack week_5.csv gnn_v1.pt logreg_head.pkl --thr 0.95 --wait-cost 0.02 --regret-cost 0.2 --k-next-week 10 --quiet-metrics\n",
      "\n",
      "\n",
      "OVP decision:  ⏳  WAIT\n",
      "  • current best posterior  : 0.570\n",
      "  • P(better next week)     : 20.43%\n",
      "  • Δ(Expected regret)      : +0.0209\n",
      "\n",
      "🏠  Week 6: c:\\Users\\User\\anaconda3\\python.exe graph_home_hunter.py --predict-stack week_6.csv gnn_v1.pt logreg_head.pkl --thr 0.95 --wait-cost 0.02 --regret-cost 0.2 --k-next-week 10 --quiet-metrics\n",
      "\n",
      "\n",
      "OVP decision:  ⏳  WAIT\n",
      "  • current best posterior  : 0.934\n",
      "  • P(better next week)     : 10.94%\n",
      "  • Δ(Expected regret)      : +0.0019\n",
      "\n",
      "🏠  Week 7: c:\\Users\\User\\anaconda3\\python.exe graph_home_hunter.py --predict-stack week_7.csv gnn_v1.pt logreg_head.pkl --thr 0.95 --wait-cost 0.02 --regret-cost 0.2 --k-next-week 10 --quiet-metrics\n",
      "\n",
      "\n",
      "OVP decision:  ⏳  WAIT\n",
      "  • current best posterior  : 0.946\n",
      "  • P(better next week)     : 10.47%\n",
      "  • Δ(Expected regret)      : +0.0009\n",
      "\n",
      "🏠  Week 8: c:\\Users\\User\\anaconda3\\python.exe graph_home_hunter.py --predict-stack week_8.csv gnn_v1.pt logreg_head.pkl --thr 0.95 --wait-cost 0.02 --regret-cost 0.2 --k-next-week 10 --quiet-metrics\n",
      "\n",
      "\n",
      "OVP decision:  💰  **PLACE OFFER NOW**\n",
      "  • current best posterior  : 0.954\n",
      "  • P(better next week)     : 9.96%\n",
      "  • Δ(Expected regret)      : -0.0001\n",
      "\n",
      "🏠  Week 9: c:\\Users\\User\\anaconda3\\python.exe graph_home_hunter.py --predict-stack week_9.csv gnn_v1.pt logreg_head.pkl --thr 0.95 --wait-cost 0.02 --regret-cost 0.2 --k-next-week 10 --quiet-metrics\n",
      "\n",
      "\n",
      "OVP decision:  ⏳  WAIT\n",
      "  • current best posterior  : 0.566\n",
      "  • P(better next week)     : 21.80%\n",
      "  • Δ(Expected regret)      : +0.0236\n"
     ]
    }
   ],
   "source": [
    "!python simulate_weeks.py --gnn gnn_v1.pt --head logreg_head.pkl --thr 0.95 --wait-cost 0.02 --regret-cost 0.2 week_0.csv week_1.csv week_2.csv week_3.csv week_4.csv week_5.csv week_6.csv week_7.csv week_8.csv week_9.csv"
   ]
  },
  {
   "cell_type": "markdown",
   "id": "e02f9efb",
   "metadata": {},
   "source": [
    "## 9. Explain why the best listing was chosen in Week 8"
   ]
  },
  {
   "cell_type": "code",
   "execution_count": 10,
   "id": "2352f05b",
   "metadata": {},
   "outputs": [
    {
     "name": "stdout",
     "output_type": "stream",
     "text": [
      "stack metrics:\n",
      "stack acc=0.972  prec=1.00  rec=0.17  f1=0.29\n",
      "confusion: TP 1 | FP 0 | FN 5 | TN 175\n",
      "\n",
      "OVP decision:  ⏳  WAIT\n",
      "  • current best posterior  : 0.954\n",
      "  • P(better next week)     : 26.94%\n",
      "  • Δ(Expected regret)      : +0.0069\n",
      "\n",
      "Top feature contributions for listing 161:\n",
      "  near_shops_True           +4.516\n",
      "  condition_new             +3.104\n",
      "  north_facing_True         +0.343\n",
      "  outdoor_space_True        -0.312\n",
      "  has_storage_False         -0.236\n"
     ]
    }
   ],
   "source": [
    "!python graph_home_hunter.py --predict-stack week_8.csv gnn_v1.pt logreg_head.pkl --thr 0.95 --explain-id 161"
   ]
  },
  {
   "cell_type": "markdown",
   "id": "9371023a",
   "metadata": {},
   "source": [
    "## 10. Run the Streamlit GUI (opens a browser tab) \n",
    "\n",
    "### To run the interactive simulations in the GUI, please upload: \n",
    "1) The model: gnn_v1.pt\n",
    "2) The model head: logreg_head.pkl and \n",
    "3) The mock weekly listings data: week0-9.csv files "
   ]
  },
  {
   "cell_type": "code",
   "execution_count": 11,
   "id": "02ce3c6e",
   "metadata": {},
   "outputs": [
    {
     "name": "stdout",
     "output_type": "stream",
     "text": [
      "^C\n"
     ]
    }
   ],
   "source": [
    "!streamlit run home_hunter_app.py"
   ]
  }
 ],
 "metadata": {
  "kernelspec": {
   "display_name": "base",
   "language": "python",
   "name": "python3"
  },
  "language_info": {
   "codemirror_mode": {
    "name": "ipython",
    "version": 3
   },
   "file_extension": ".py",
   "mimetype": "text/x-python",
   "name": "python",
   "nbconvert_exporter": "python",
   "pygments_lexer": "ipython3",
   "version": "3.12.3"
  }
 },
 "nbformat": 4,
 "nbformat_minor": 5
}
